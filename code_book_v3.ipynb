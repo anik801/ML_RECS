{
 "cells": [
  {
   "cell_type": "code",
   "execution_count": 1,
   "metadata": {},
   "outputs": [],
   "source": [
    "# -*- coding: utf-8 -*-\n",
    "\"\"\"\n",
    "Created on Wed Oct 20 06:42:17 2021\n",
    "\n",
    "@author: John\n",
    "\"\"\"\n",
    "\n",
    "# importing libraries\n",
    "from sklearn.datasets import load_boston\n",
    "import pandas as pd\n",
    "import numpy as np\n",
    "import matplotlib\n",
    "import matplotlib.pyplot as plt\n",
    "import seaborn as sns\n",
    "# import statsmodels.api as sm\n",
    "\n",
    "%matplotlib inline\n",
    "# %matplotlib notebook\n",
    "\n",
    "from sklearn.linear_model import LinearRegression\n",
    "from sklearn.feature_selection import RFE\n",
    "from sklearn.linear_model import RidgeCV, LassoCV, Ridge, Lasso\n",
    "\n",
    "# compare algorithms\n",
    "from pandas import read_csv\n",
    "from matplotlib import pyplot\n",
    "from sklearn.model_selection import train_test_split\n",
    "from sklearn.model_selection import cross_val_score\n",
    "from sklearn.model_selection import StratifiedKFold\n",
    "from sklearn.linear_model import LogisticRegression\n",
    "from sklearn.tree import DecisionTreeClassifier\n",
    "from sklearn.neighbors import KNeighborsClassifier\n",
    "from sklearn.discriminant_analysis import LinearDiscriminantAnalysis\n",
    "from sklearn.naive_bayes import GaussianNB\n",
    "from sklearn.svm import SVC\n",
    "from sklearn.ensemble import RandomForestClassifier\n",
    "from sklearn.ensemble import AdaBoostClassifier\n",
    "from sklearn.ensemble import StackingClassifier\n",
    "\n",
    "# Feature Selection with Univariate Statistical Tests\n",
    "from numpy import set_printoptions\n",
    "from sklearn.feature_selection import SelectKBest\n",
    "from sklearn.feature_selection import f_classif\n",
    "from sklearn.feature_selection import chi2\n",
    "\n",
    "import csv\n",
    "from sklearn.preprocessing import LabelEncoder\n",
    "\n",
    "from sklearn.metrics import classification_report\n",
    "from sklearn.metrics import confusion_matrix\n",
    "from sklearn.metrics import accuracy_score\n",
    "from sklearn.metrics import mean_absolute_error as mae\n",
    "from sklearn.metrics import r2_score\n",
    "from sklearn.metrics import mean_squared_error\n",
    "from math import sqrt"
   ]
  },
  {
   "cell_type": "code",
   "execution_count": 2,
   "metadata": {},
   "outputs": [],
   "source": [
    "# suppressing warnings ## NOT RECOMMENDED\n",
    "import warnings\n",
    "warnings.filterwarnings(\"ignore\") "
   ]
  },
  {
   "cell_type": "code",
   "execution_count": 3,
   "metadata": {},
   "outputs": [],
   "source": [
    "# read dataset\n",
    "df = pd.read_csv ('recs2015_public_v4.csv')"
   ]
  },
  {
   "cell_type": "code",
   "execution_count": 4,
   "metadata": {},
   "outputs": [
    {
     "name": "stdout",
     "output_type": "stream",
     "text": [
      "   DOEID  REGIONC  DIVISION METROMICRO UATYP10  TYPEHUQ  ZTYPEHUQ  CELLAR  \\\n",
      "0  10001        4        10      METRO       U        2         0       0   \n",
      "1  10002        3         7       NONE       R        2         0       0   \n",
      "2  10003        3         6      METRO       U        2         0       1   \n",
      "3  10004        2         4      MICRO       C        2         0       1   \n",
      "4  10005        1         2      METRO       U        2         0       1   \n",
      "\n",
      "   ZCELLAR  BASEFIN  ...  ZELAMOUNT  NGXBTU  PERIODNG  ZNGAMOUNT  FOXBTU  \\\n",
      "0        0       -2  ...          0  103.32         1          0  137.45   \n",
      "1        0       -2  ...          1     NaN        -2         -2  137.45   \n",
      "2        0        1  ...          0  100.14         1          0  137.45   \n",
      "3        0        1  ...          0     NaN        -2         -2  137.45   \n",
      "4        0        0  ...          0  102.83         1          0  137.45   \n",
      "\n",
      "   PERIODFO  ZFOAMOUNT  LPXBTU  PERIODLP  ZLPAMOUNT  \n",
      "0        -2         -2   91.33        -2         -2  \n",
      "1        -2         -2   91.33        -2         -2  \n",
      "2        -2         -2   91.33        -2         -2  \n",
      "3        -2         -2   91.33         2          0  \n",
      "4        -2         -2   91.33        -2         -2  \n",
      "\n",
      "[5 rows x 759 columns]\n"
     ]
    }
   ],
   "source": [
    "print (df.head())"
   ]
  },
  {
   "cell_type": "code",
   "execution_count": 5,
   "metadata": {},
   "outputs": [
    {
     "name": "stdout",
     "output_type": "stream",
     "text": [
      "(5686, 759)\n"
     ]
    }
   ],
   "source": [
    "print(df.shape)"
   ]
  },
  {
   "cell_type": "code",
   "execution_count": 6,
   "metadata": {},
   "outputs": [],
   "source": [
    "# print(df.describe())"
   ]
  },
  {
   "cell_type": "code",
   "execution_count": 7,
   "metadata": {},
   "outputs": [],
   "source": [
    "# manual feature selection\n",
    "\n",
    "drop_list = []\n",
    "with open('features_to_drop.csv', 'r', encoding=\"utf-8-sig\", newline='') as file:\n",
    "#     reader = csv.reader(file)\n",
    "#     drop_list = list(reader)    \n",
    "    for row in csv.reader(file):\n",
    "        drop_list.append(row[0])\n",
    "# print (drop_list)"
   ]
  },
  {
   "cell_type": "code",
   "execution_count": 8,
   "metadata": {},
   "outputs": [],
   "source": [
    "df.drop(columns = drop_list, inplace = True)"
   ]
  },
  {
   "cell_type": "code",
   "execution_count": 9,
   "metadata": {},
   "outputs": [
    {
     "name": "stdout",
     "output_type": "stream",
     "text": [
      "   REGIONC  DIVISION METROMICRO UATYP10  TYPEHUQ  CELLAR  BASEFIN  ATTIC  \\\n",
      "0        4        10      METRO       U        2       0       -2      0   \n",
      "1        3         7       NONE       R        2       0       -2      0   \n",
      "2        3         6      METRO       U        2       1        1      0   \n",
      "3        2         4      MICRO       C        2       1        1      0   \n",
      "4        1         2      METRO       U        2       1        0      1   \n",
      "\n",
      "   ATTICFIN  STORIES  ...  PELLETAMT  PELLETBTU  ELXBTU  PERIODEL  NGXBTU  \\\n",
      "0        -2       20  ...       -2.0        0.0   3.412         1  103.32   \n",
      "1        -2       10  ...       -2.0        0.0   3.412         5     NaN   \n",
      "2        -2       10  ...       -2.0        0.0   3.412         1  100.14   \n",
      "3        -2       10  ...       -2.0        0.0   3.412         1     NaN   \n",
      "4         0       20  ...       -2.0        0.0   3.412         1  102.83   \n",
      "\n",
      "   PERIODNG  FOXBTU  PERIODFO  LPXBTU  PERIODLP  \n",
      "0         1  137.45        -2   91.33        -2  \n",
      "1        -2  137.45        -2   91.33        -2  \n",
      "2         1  137.45        -2   91.33        -2  \n",
      "3        -2  137.45        -2   91.33         2  \n",
      "4         1  137.45        -2   91.33        -2  \n",
      "\n",
      "[5 rows x 389 columns]\n"
     ]
    }
   ],
   "source": [
    "print(df.head())"
   ]
  },
  {
   "cell_type": "code",
   "execution_count": 10,
   "metadata": {},
   "outputs": [
    {
     "name": "stdout",
     "output_type": "stream",
     "text": [
      "(5686, 389)\n"
     ]
    }
   ],
   "source": [
    "print(df.shape)"
   ]
  },
  {
   "cell_type": "code",
   "execution_count": 11,
   "metadata": {},
   "outputs": [
    {
     "name": "stdout",
     "output_type": "stream",
     "text": [
      "['EQUIPMUSE', 'TEMPHOME', 'TEMPGONE', 'TEMPNITE', 'USEWWAC', 'TEMPHOMEAC', 'TEMPGONEAC', 'TEMPNITEAC', 'HHAGE', 'EMPLOYHH', 'EDUCATION', 'NHSLDMEM', 'NUMADULT', 'NUMCHILD', 'ATHOME', 'MONEYPY']\n"
     ]
    }
   ],
   "source": [
    "# manual target selection\n",
    "\n",
    "target_list = []\n",
    "with open('targets.csv', 'r', encoding=\"utf-8-sig\", newline='') as file:\n",
    "#     reader = csv.reader(file)\n",
    "#     drop_list = list(reader)    \n",
    "    for row in csv.reader(file):\n",
    "        target_list.append(row[0])\n",
    "print (target_list)"
   ]
  },
  {
   "cell_type": "code",
   "execution_count": 12,
   "metadata": {},
   "outputs": [],
   "source": [
    "# replace categorial data \n",
    "LE = LabelEncoder()\n",
    "df['METROMICRO'] = LE.fit_transform(df['METROMICRO'])\n",
    "df['UATYP10'] = LE.fit_transform(df['UATYP10'])\n",
    "df['CLIMATE_REGION_PUB'] = LE.fit_transform(df['CLIMATE_REGION_PUB'])\n",
    "df['IECC_CLIMATE_PUB'] = LE.fit_transform(df['IECC_CLIMATE_PUB'])"
   ]
  },
  {
   "cell_type": "code",
   "execution_count": 13,
   "metadata": {},
   "outputs": [],
   "source": [
    "# removing INF and NaN values\n",
    "df.replace([np.inf, -np.inf], np.nan, inplace=True)\n",
    "df.fillna(99999, inplace=True)"
   ]
  },
  {
   "cell_type": "code",
   "execution_count": 14,
   "metadata": {},
   "outputs": [
    {
     "data": {
      "image/png": "[encoded data removed]",
      "text/plain": [
       "<Figure size 432x288 with 1 Axes>"
      ]
     },
     "metadata": {
      "needs_background": "light"
     },
     "output_type": "display_data"
    }
   ],
   "source": [
    "temp_targets = ['TEMPHOME', 'TEMPGONE', 'TEMPNITE', 'TEMPHOMEAC', 'TEMPGONEAC', 'TEMPNITEAC']\n",
    "\n",
    "for target in temp_targets:\n",
    "#     plt.hist(df[target], bins=25, rwidth=0.9, color='#244c8c', range=(50, df[target].max()))\n",
    "    plt.hist(df[target], bins=25, rwidth=0.9, color='#244c8c')\n",
    "#     plt.show()\n",
    "    plt.savefig('output/'+target+'_hist_before.png', bbox_inches='tight', dpi=300)\n",
    "#     df.hist(column=target, bins=100, grid='off', figsize=(8,6), color='#86bf91', zorder=2, rwidth=0.9)\n",
    "#     df.hist(column=target,grid='off')"
   ]
  },
  {
   "cell_type": "code",
   "execution_count": 15,
   "metadata": {},
   "outputs": [
    {
     "data": {
      "image/png": "[encoded data removed]",
      "text/plain": [
       "<Figure size 432x288 with 1 Axes>"
      ]
     },
     "metadata": {
      "needs_background": "light"
     },
     "output_type": "display_data"
    }
   ],
   "source": [
    "target = 'HHAGE'\n",
    "plt.hist(df[target], bins=25, rwidth=0.9, color='#244c8c')\n",
    "plt.savefig('output/'+target+'_hist_before.png', bbox_inches='tight', dpi=300)\n",
    "# df.hist(column='HHAGE', grid='off', figsize=(8,6), color='#86bf91', zorder=2, rwidth=0.9)"
   ]
  },
  {
   "cell_type": "code",
   "execution_count": 16,
   "metadata": {},
   "outputs": [],
   "source": [
    "def getAgeGroup(age):\n",
    "    if age < 13:\n",
    "        return 1\n",
    "    elif age < 31:\n",
    "        return 2\n",
    "    elif age < 51:\n",
    "        return 3\n",
    "    elif age < 71:\n",
    "        return 4\n",
    "    return 5"
   ]
  },
  {
   "cell_type": "code",
   "execution_count": 17,
   "metadata": {},
   "outputs": [],
   "source": [
    "def getTemperatureGroup(temperature):\n",
    "    if temperature < 51:\n",
    "        return 1\n",
    "    elif temperature < 61:\n",
    "        return 2\n",
    "    elif temperature < 65:\n",
    "        return 3\n",
    "    elif temperature < 69:\n",
    "        return 4\n",
    "    elif temperature < 73:\n",
    "        return 5\n",
    "    elif temperature < 77:\n",
    "        return 6\n",
    "    return 7"
   ]
  },
  {
   "cell_type": "code",
   "execution_count": 18,
   "metadata": {},
   "outputs": [],
   "source": [
    "# manual grouping of age group HHAGE and temperature targets\n",
    "\n",
    "temp_targets = ['TEMPHOME', 'TEMPGONE', 'TEMPNITE', 'TEMPHOMEAC', 'TEMPGONEAC', 'TEMPNITEAC']\n",
    "\n",
    "for i, row in df.iterrows():\n",
    "    age = row['HHAGE']\n",
    "    age_group = getAgeGroup(age)\n",
    "    df.at[i, 'HHAGE'] = age_group\n",
    "    \n",
    "    for target in temp_targets:\n",
    "        temperature = row[target]\n",
    "        df.at[i, target] = getTemperatureGroup(temperature)"
   ]
  },
  {
   "cell_type": "code",
   "execution_count": 19,
   "metadata": {},
   "outputs": [
    {
     "data": {
      "image/png": "[encoded data removed]",
      "text/plain": [
       "<Figure size 432x288 with 1 Axes>"
      ]
     },
     "metadata": {
      "needs_background": "light"
     },
     "output_type": "display_data"
    }
   ],
   "source": [
    "# df.hist(column='HHAGE', grid='off')\n",
    "target = 'HHAGE'\n",
    "plt.hist(df[target], bins=25, rwidth=0.9, color='#155223')\n",
    "plt.savefig('output/'+target+'_hist_after.png', bbox_inches='tight', dpi=300)"
   ]
  },
  {
   "cell_type": "code",
   "execution_count": 20,
   "metadata": {},
   "outputs": [
    {
     "data": {
      "image/png": "[encoded data removed]",
      "text/plain": [
       "<Figure size 432x288 with 1 Axes>"
      ]
     },
     "metadata": {
      "needs_background": "light"
     },
     "output_type": "display_data"
    }
   ],
   "source": [
    "for target in temp_targets:\n",
    "#     df.hist(column=target, grid='off')\n",
    "    plt.hist(df[target], bins=25, rwidth=0.9, color='#155223')\n",
    "    plt.savefig('output/'+target+'_hist_after.png', bbox_inches='tight', dpi=300)"
   ]
  },
  {
   "cell_type": "code",
   "execution_count": 21,
   "metadata": {},
   "outputs": [
    {
     "data": {
      "text/plain": [
       "'\\n0 - 50\\n51 - 60\\n61 - 64\\n65 - 68\\n69 - 72\\n73 - 76\\n77 - 80\\n80 - 100\\n'"
      ]
     },
     "execution_count": 21,
     "metadata": {},
     "output_type": "execute_result"
    }
   ],
   "source": [
    "'''\n",
    "0 - 50\n",
    "51 - 60\n",
    "61 - 64\n",
    "65 - 68\n",
    "69 - 72\n",
    "73 - 76\n",
    "77 - 80\n",
    "80 - 100\n",
    "'''"
   ]
  },
  {
   "cell_type": "code",
   "execution_count": 22,
   "metadata": {},
   "outputs": [],
   "source": [
    "models = []\n",
    "\n",
    "models.append(('LDA', LinearDiscriminantAnalysis()))\n",
    "models.append(('KNN', KNeighborsClassifier()))\n",
    "models.append(('CART', DecisionTreeClassifier()))\n",
    "models.append(('SVM', SVC(gamma='auto')))\n",
    "models.append(('ADB', AdaBoostClassifier()))\n",
    "models.append(('RFC', RandomForestClassifier(n_estimators = 100, random_state = 0)))"
   ]
  },
  {
   "cell_type": "code",
   "execution_count": 23,
   "metadata": {},
   "outputs": [],
   "source": [
    "cv_results_summary = {}\n",
    "cv_results_dump = {}\n",
    "for target in target_list:\n",
    "    cv_results_summary[target] = {}\n",
    "    cv_results_dump[target] = {}\n",
    "    \n",
    "# cv_scoring_metrics = ['accuracy', 'f1_macro', 'precision_macro', 'recall_macro', 'jaccard_macro']\n",
    "cv_scoring_metrics = ['accuracy', 'f1_weighted', 'precision_weighted', 'recall_weighted']"
   ]
  },
  {
   "cell_type": "code",
   "execution_count": 24,
   "metadata": {},
   "outputs": [],
   "source": [
    "# function for training\n",
    "def train_model(target_col, models):\n",
    "    print(\"---TRAINING FOR \" + target_col + \" ---\")\n",
    "\n",
    "    X = df.drop(target_col, axis='columns')   #Feature Matrix\n",
    "#     X = df.drop(target_list, axis='columns')   #Feature Matrix\n",
    "    \n",
    "    y = df[target_col]          #Target Variable\n",
    "\n",
    "#     # create traing and test sets\n",
    "#     X_train, X_validation, Y_train, Y_validation = train_test_split(X, y, test_size=0.20, random_state=1)\n",
    "\n",
    "    # evaluate each model in turn\n",
    "    accuracy_res = []\n",
    "    names = []\n",
    "    \n",
    "    for name, model in models:\n",
    "        kfold = StratifiedKFold(n_splits=10, random_state=1, shuffle=True)\n",
    "        \n",
    "        cv_accuracy = []\n",
    "        cv_results_summary[target_col][name] = {}\n",
    "        cv_results_dump[target_col][name] = {}\n",
    "        \n",
    "        for metric in cv_scoring_metrics:\n",
    "            cur_results = cross_val_score(model, X, y, cv=kfold, scoring=metric)\n",
    "            cv_results_dump[target_col][name][metric] = cur_results            \n",
    "            if metric == 'accuracy':\n",
    "                cv_accuracy = cur_results\n",
    "                \n",
    "            cv_results_summary[target_col][name][metric + '_' + 'min'] = cur_results.min()\n",
    "            cv_results_summary[target_col][name][metric + '_' + 'max'] = cur_results.max()\n",
    "            cv_results_summary[target_col][name][metric + '_' + 'mean'] = cur_results.mean()\n",
    "            cv_results_summary[target_col][name][metric + '_' + 'std'] = cur_results.std()                \n",
    "                  \n",
    "        \n",
    "        accuracy_res.append(cv_accuracy)\n",
    "        names.append(name)\n",
    "        \n",
    "        print('%s: Max: %f \\tMean: %f \\tSD: %f' % (name, cv_accuracy.max(), cv_accuracy.mean(), cv_accuracy.std()))\n",
    "#         print('%s: Max: %f \\tMean: %f \\tSD: %f' % (name, cv_r2.max(), cv_r2.mean(), cv_r2.std()))\n",
    "#         print('%s: Max: %f \\tMean: %f \\tSD: %f' % (name, cv_mae.max(), cv_mae.mean(), cv_mae.std()))\n",
    "           \n",
    "    print('\\n\\n')\n",
    "       \n",
    "\n",
    "    # Compare Algorithms\n",
    "    pyplot.boxplot(accuracy_res, labels=names)\n",
    "    plot_title = \"Traning Accuracy for \" + target_col\n",
    "    pyplot.show()"
   ]
  },
  {
   "cell_type": "code",
   "execution_count": 29,
   "metadata": {},
   "outputs": [
    {
     "name": "stdout",
     "output_type": "stream",
     "text": [
      "---TRAINING FOR EQUIPMUSE ---\n",
      "LDA: Max: 0.625000 \tMean: 0.604651 \tSD: 0.016556\n",
      "KNN: Max: 0.386643 \tMean: 0.369849 \tSD: 0.016580\n",
      "CART: Max: 0.639719 \tMean: 0.610621 \tSD: 0.015058\n",
      "SVM: Max: 0.380282 \tMean: 0.379177 \tSD: 0.000869\n",
      "ADB: Max: 0.609155 \tMean: 0.549597 \tSD: 0.030371\n",
      "RFC: Max: 0.693662 \tMean: 0.661802 \tSD: 0.022295\n",
      "\n",
      "\n",
      "\n"
     ]
    },
    {
     "data": {
      "image/png": "[encoded data removed]",
      "text/plain": [
       "<Figure size 432x288 with 1 Axes>"
      ]
     },
     "metadata": {
      "needs_background": "light"
     },
     "output_type": "display_data"
    },
    {
     "name": "stdout",
     "output_type": "stream",
     "text": [
      "\n",
      "\n",
      "\n",
      "---TRAINING FOR TEMPHOME ---\n",
      "LDA: Max: 0.588752 \tMean: 0.546604 \tSD: 0.017870\n",
      "KNN: Max: 0.407733 \tMean: 0.371073 \tSD: 0.023312\n",
      "CART: Max: 0.627417 \tMean: 0.591798 \tSD: 0.022087\n",
      "SVM: Max: 0.411972 \tMean: 0.411009 \tSD: 0.000564\n",
      "ADB: Max: 0.613357 \tMean: 0.547129 \tSD: 0.037631\n",
      "RFC: Max: 0.654930 \tMean: 0.630138 \tSD: 0.020542\n",
      "\n",
      "\n",
      "\n"
     ]
    },
    {
     "data": {
      "image/png": "[encoded data removed]",
      "text/plain": [
       "<Figure size 432x288 with 1 Axes>"
      ]
     },
     "metadata": {
      "needs_background": "light"
     },
     "output_type": "display_data"
    },
    {
     "name": "stdout",
     "output_type": "stream",
     "text": [
      "\n",
      "\n",
      "\n",
      "---TRAINING FOR TEMPGONE ---\n",
      "LDA: Max: 0.550088 \tMean: 0.508617 \tSD: 0.019037\n",
      "KNN: Max: 0.355634 \tMean: 0.321845 \tSD: 0.013929\n",
      "CART: Max: 0.551845 \tMean: 0.519870 \tSD: 0.020276\n",
      "SVM: Max: 0.367958 \tMean: 0.366339 \tSD: 0.000839\n",
      "ADB: Max: 0.606327 \tMean: 0.562431 \tSD: 0.024743\n",
      "RFC: Max: 0.574692 \tMean: 0.545547 \tSD: 0.013466\n",
      "\n",
      "\n",
      "\n"
     ]
    },
    {
     "data": {
      "image/png": "[encoded data removed]",
      "text/plain": [
       "<Figure size 432x288 with 1 Axes>"
      ]
     },
     "metadata": {
      "needs_background": "light"
     },
     "output_type": "display_data"
    },
    {
     "name": "stdout",
     "output_type": "stream",
     "text": [
      "\n",
      "\n",
      "\n",
      "---TRAINING FOR TEMPNITE ---\n",
      "LDA: Max: 0.521127 \tMean: 0.495953 \tSD: 0.017322\n",
      "KNN: Max: 0.367311 \tMean: 0.331862 \tSD: 0.017580\n",
      "CART: Max: 0.577465 \tMean: 0.551538 \tSD: 0.016588\n",
      "SVM: Max: 0.352113 \tMean: 0.351389 \tSD: 0.000571\n",
      "ADB: Max: 0.620387 \tMean: 0.582653 \tSD: 0.026559\n",
      "RFC: Max: 0.611599 \tMean: 0.581953 \tSD: 0.012410\n",
      "\n",
      "\n",
      "\n"
     ]
    },
    {
     "data": {
      "image/png": "[encoded data removed]",
      "text/plain": [
       "<Figure size 432x288 with 1 Axes>"
      ]
     },
     "metadata": {
      "needs_background": "light"
     },
     "output_type": "display_data"
    },
    {
     "name": "stdout",
     "output_type": "stream",
     "text": [
      "\n",
      "\n",
      "\n",
      "---TRAINING FOR USEWWAC ---\n",
      "LDA: Max: 0.834798 \tMean: 0.827822 \tSD: 0.005657\n",
      "KNN: Max: 0.752197 \tMean: 0.735135 \tSD: 0.008712\n",
      "CART: Max: 0.868190 \tMean: 0.852263 \tSD: 0.011764\n",
      "SVM: Max: 0.755712 \tMean: 0.755013 \tSD: 0.000715\n",
      "ADB: Max: 0.864437 \tMean: 0.862646 \tSD: 0.001905\n",
      "RFC: Max: 0.887522 \tMean: 0.875307 \tSD: 0.007376\n",
      "\n",
      "\n",
      "\n"
     ]
    },
    {
     "data": {
      "image/png": "[encoded data removed]",
      "text/plain": [
       "<Figure size 432x288 with 1 Axes>"
      ]
     },
     "metadata": {
      "needs_background": "light"
     },
     "output_type": "display_data"
    },
    {
     "name": "stdout",
     "output_type": "stream",
     "text": [
      "\n",
      "\n",
      "\n",
      "---TRAINING FOR TEMPHOMEAC ---\n",
      "LDA: Max: 0.639719 \tMean: 0.622230 \tSD: 0.015279\n",
      "KNN: Max: 0.362676 \tMean: 0.317458 \tSD: 0.023136\n",
      "CART: Max: 0.674868 \tMean: 0.660039 \tSD: 0.014267\n",
      "SVM: Max: 0.297535 \tMean: 0.296870 \tSD: 0.000841\n",
      "ADB: Max: 0.622144 \tMean: 0.562616 \tSD: 0.059589\n",
      "RFC: Max: 0.694200 \tMean: 0.666548 \tSD: 0.013400\n",
      "\n",
      "\n",
      "\n"
     ]
    },
    {
     "data": {
      "image/png": "[encoded data removed]",
      "text/plain": [
       "<Figure size 432x288 with 1 Axes>"
      ]
     },
     "metadata": {
      "needs_background": "light"
     },
     "output_type": "display_data"
    },
    {
     "name": "stdout",
     "output_type": "stream",
     "text": [
      "\n",
      "\n",
      "\n",
      "---TRAINING FOR TEMPGONEAC ---\n",
      "LDA: Max: 0.602812 \tMean: 0.577733 \tSD: 0.012421\n",
      "KNN: Max: 0.344464 \tMean: 0.314981 \tSD: 0.016062\n",
      "CART: Max: 0.669014 \tMean: 0.627163 \tSD: 0.020952\n",
      "SVM: Max: 0.312830 \tMean: 0.311994 \tSD: 0.000711\n",
      "ADB: Max: 0.607394 \tMean: 0.465191 \tSD: 0.077897\n",
      "RFC: Max: 0.648506 \tMean: 0.635070 \tSD: 0.009096\n",
      "\n",
      "\n",
      "\n"
     ]
    },
    {
     "data": {
      "image/png": "[encoded data removed]",
      "text/plain": [
       "<Figure size 432x288 with 1 Axes>"
      ]
     },
     "metadata": {
      "needs_background": "light"
     },
     "output_type": "display_data"
    },
    {
     "name": "stdout",
     "output_type": "stream",
     "text": [
      "\n",
      "\n",
      "\n",
      "---TRAINING FOR TEMPNITEAC ---\n",
      "LDA: Max: 0.557118 \tMean: 0.533944 \tSD: 0.017299\n",
      "KNN: Max: 0.312830 \tMean: 0.296690 \tSD: 0.012495\n",
      "CART: Max: 0.653169 \tMean: 0.612553 \tSD: 0.021122\n",
      "SVM: Max: 0.313380 \tMean: 0.312523 \tSD: 0.000977\n",
      "ADB: Max: 0.639719 \tMean: 0.574201 \tSD: 0.043704\n",
      "RFC: Max: 0.664323 \tMean: 0.633828 \tSD: 0.017609\n",
      "\n",
      "\n",
      "\n"
     ]
    },
    {
     "data": {
      "image/png": "[encoded data removed]",
      "text/plain": [
       "<Figure size 432x288 with 1 Axes>"
      ]
     },
     "metadata": {
      "needs_background": "light"
     },
     "output_type": "display_data"
    },
    {
     "name": "stdout",
     "output_type": "stream",
     "text": [
      "\n",
      "\n",
      "\n",
      "---TRAINING FOR HHAGE ---\n",
      "LDA: Max: 0.611599 \tMean: 0.585827 \tSD: 0.017086\n",
      "KNN: Max: 0.428822 \tMean: 0.403800 \tSD: 0.015383\n",
      "CART: Max: 0.538732 \tMean: 0.516535 \tSD: 0.011227\n",
      "SVM: Max: 0.383803 \tMean: 0.383222 \tSD: 0.000694\n",
      "ADB: Max: 0.639719 \tMean: 0.586874 \tSD: 0.032910\n",
      "RFC: Max: 0.648506 \tMean: 0.609385 \tSD: 0.020475\n",
      "\n",
      "\n",
      "\n"
     ]
    },
    {
     "data": {
      "image/png": "[encoded data removed]",
      "text/plain": [
       "<Figure size 432x288 with 1 Axes>"
      ]
     },
     "metadata": {
      "needs_background": "light"
     },
     "output_type": "display_data"
    },
    {
     "name": "stdout",
     "output_type": "stream",
     "text": [
      "\n",
      "\n",
      "\n",
      "---TRAINING FOR EMPLOYHH ---\n",
      "LDA: Max: 0.724077 \tMean: 0.700675 \tSD: 0.015402\n",
      "KNN: Max: 0.511424 \tMean: 0.481358 \tSD: 0.016452\n",
      "CART: Max: 0.648506 \tMean: 0.614491 \tSD: 0.014910\n",
      "SVM: Max: 0.477113 \tMean: 0.476610 \tSD: 0.000411\n",
      "ADB: Max: 0.746479 \tMean: 0.713516 \tSD: 0.017198\n",
      "RFC: Max: 0.730634 \tMean: 0.708059 \tSD: 0.011748\n",
      "\n",
      "\n",
      "\n"
     ]
    },
    {
     "data": {
      "image/png": "[encoded data removed]",
      "text/plain": [
       "<Figure size 432x288 with 1 Axes>"
      ]
     },
     "metadata": {
      "needs_background": "light"
     },
     "output_type": "display_data"
    },
    {
     "name": "stdout",
     "output_type": "stream",
     "text": [
      "\n",
      "\n",
      "\n",
      "---TRAINING FOR EDUCATION ---\n",
      "LDA: Max: 0.446397 \tMean: 0.397636 \tSD: 0.023276\n",
      "KNN: Max: 0.302285 \tMean: 0.281740 \tSD: 0.018061\n",
      "CART: Max: 0.357394 \tMean: 0.306373 \tSD: 0.021944\n",
      "SVM: Max: 0.333919 \tMean: 0.333274 \tSD: 0.000666\n",
      "ADB: Max: 0.407733 \tMean: 0.383923 \tSD: 0.019633\n",
      "RFC: Max: 0.430580 \tMean: 0.400274 \tSD: 0.015094\n",
      "\n",
      "\n",
      "\n"
     ]
    },
    {
     "data": {
      "image/png": "[encoded data removed]",
      "text/plain": [
       "<Figure size 432x288 with 1 Axes>"
      ]
     },
     "metadata": {
      "needs_background": "light"
     },
     "output_type": "display_data"
    },
    {
     "name": "stdout",
     "output_type": "stream",
     "text": [
      "\n",
      "\n",
      "\n",
      "---TRAINING FOR NHSLDMEM ---\n",
      "LDA: Max: 1.000000 \tMean: 0.955282 \tSD: 0.132983\n",
      "KNN: Max: 0.557118 \tMean: 0.533763 \tSD: 0.014865\n",
      "CART: Max: 0.996485 \tMean: 0.994724 \tSD: 0.001761\n",
      "SVM: Max: 0.369718 \tMean: 0.368801 \tSD: 0.001012\n",
      "ADB: Max: 0.369718 \tMean: 0.368801 \tSD: 0.001012\n",
      "RFC: Max: 0.772887 \tMean: 0.756772 \tSD: 0.012886\n",
      "\n",
      "\n",
      "\n"
     ]
    },
    {
     "data": {
      "image/png": "[encoded data removed]",
      "text/plain": [
       "<Figure size 432x288 with 1 Axes>"
      ]
     },
     "metadata": {
      "needs_background": "light"
     },
     "output_type": "display_data"
    },
    {
     "name": "stdout",
     "output_type": "stream",
     "text": [
      "\n",
      "\n",
      "\n",
      "---TRAINING FOR NUMADULT ---\n",
      "LDA: Max: 1.000000 \tMean: 0.960739 \tSD: 0.117196\n",
      "KNN: Max: 0.667838 \tMean: 0.636648 \tSD: 0.015060\n",
      "CART: Max: 0.998243 \tMean: 0.993493 \tSD: 0.003855\n",
      "SVM: Max: 0.544815 \tMean: 0.544495 \tSD: 0.000393\n",
      "ADB: Max: 0.786972 \tMean: 0.769610 \tSD: 0.009752\n",
      "RFC: Max: 0.786972 \tMean: 0.774005 \tSD: 0.008270\n",
      "\n",
      "\n",
      "\n"
     ]
    },
    {
     "data": {
      "image/png": "[encoded data removed]",
      "text/plain": [
       "<Figure size 432x288 with 1 Axes>"
      ]
     },
     "metadata": {
      "needs_background": "light"
     },
     "output_type": "display_data"
    },
    {
     "name": "stdout",
     "output_type": "stream",
     "text": [
      "\n",
      "\n",
      "\n",
      "---TRAINING FOR NUMCHILD ---\n",
      "LDA: Max: 1.000000 \tMean: 0.967663 \tSD: 0.095258\n",
      "KNN: Max: 0.698944 \tMean: 0.673941 \tSD: 0.015486\n",
      "CART: Max: 1.000000 \tMean: 0.992788 \tSD: 0.004883\n",
      "SVM: Max: 0.676626 \tMean: 0.676046 \tSD: 0.000642\n",
      "ADB: Max: 0.727113 \tMean: 0.692932 \tSD: 0.019338\n",
      "RFC: Max: 0.755712 \tMean: 0.745516 \tSD: 0.010244\n",
      "\n",
      "\n",
      "\n"
     ]
    },
    {
     "data": {
      "image/png": "[encoded data removed]",
      "text/plain": [
       "<Figure size 432x288 with 1 Axes>"
      ]
     },
     "metadata": {
      "needs_background": "light"
     },
     "output_type": "display_data"
    },
    {
     "name": "stdout",
     "output_type": "stream",
     "text": [
      "\n",
      "\n",
      "\n",
      "---TRAINING FOR ATHOME ---\n",
      "LDA: Max: 0.565141 \tMean: 0.543082 \tSD: 0.016388\n",
      "KNN: Max: 0.461268 \tMean: 0.433879 \tSD: 0.013049\n",
      "CART: Max: 0.466549 \tMean: 0.439335 \tSD: 0.017977\n",
      "SVM: Max: 0.554577 \tMean: 0.553817 \tSD: 0.000549\n",
      "ADB: Max: 0.599297 \tMean: 0.576151 \tSD: 0.016903\n",
      "RFC: Max: 0.585237 \tMean: 0.573690 \tSD: 0.008198\n",
      "\n",
      "\n",
      "\n"
     ]
    },
    {
     "data": {
      "image/png": "[encoded data removed]",
      "text/plain": [
       "<Figure size 432x288 with 1 Axes>"
      ]
     },
     "metadata": {
      "needs_background": "light"
     },
     "output_type": "display_data"
    },
    {
     "name": "stdout",
     "output_type": "stream",
     "text": [
      "\n",
      "\n",
      "\n",
      "---TRAINING FOR MONEYPY ---\n",
      "LDA: Max: 0.322183 \tMean: 0.308476 \tSD: 0.009844\n",
      "KNN: Max: 0.235501 \tMean: 0.214558 \tSD: 0.013807\n",
      "CART: Max: 0.295775 \tMean: 0.259931 \tSD: 0.020690\n",
      "SVM: Max: 0.223592 \tMean: 0.222301 \tSD: 0.000913\n",
      "ADB: Max: 0.371479 \tMean: 0.338725 \tSD: 0.021020\n",
      "RFC: Max: 0.366197 \tMean: 0.346991 \tSD: 0.013148\n",
      "\n",
      "\n",
      "\n"
     ]
    },
    {
     "data": {
      "image/png": "[encoded data removed]",
      "text/plain": [
       "<Figure size 432x288 with 1 Axes>"
      ]
     },
     "metadata": {
      "needs_background": "light"
     },
     "output_type": "display_data"
    },
    {
     "name": "stdout",
     "output_type": "stream",
     "text": [
      "\n",
      "\n",
      "\n"
     ]
    }
   ],
   "source": [
    "for target in target_list:\n",
    "    train_model(target, models)\n",
    "    print(\"\\n\\n\")\n",
    "#     break"
   ]
  },
  {
   "cell_type": "code",
   "execution_count": 26,
   "metadata": {},
   "outputs": [
    {
     "name": "stdout",
     "output_type": "stream",
     "text": [
      "{'EQUIPMUSE': {'LDA': {'accuracy_min': 0.5782073813708261, 'accuracy_max': 0.625, 'accuracy_mean': 0.6046511052253768, 'accuracy_std': 0.016556145953902195, 'f1_weighted_min': 0.5474813300564049, 'f1_weighted_max': 0.5964003989437384, 'f1_weighted_mean': 0.5756905441581214, 'f1_weighted_std': 0.016143973428141035, 'precision_weighted_min': 0.5630634057094134, 'precision_weighted_max': 0.6289355824619086, 'precision_weighted_mean': 0.6027049654270819, 'precision_weighted_std': 0.019887615004055934, 'recall_weighted_min': 0.5782073813708261, 'recall_weighted_max': 0.625, 'recall_weighted_mean': 0.6046511052253768, 'recall_weighted_std': 0.016556145953902195}, 'KNN': {'accuracy_min': 0.3345070422535211, 'accuracy_max': 0.3866432337434095, 'accuracy_mean': 0.3698491918116785, 'accuracy_std': 0.01658047879543229, 'f1_weighted_min': 0.3148051106215322, 'f1_weighted_max': 0.361733965105825, 'f1_weighted_mean': 0.3425102632267371, 'f1_weighted_std': 0.01504519229226299, 'precision_weighted_min': 0.3139499827046267, 'precision_weighted_max': 0.3684667463831205, 'precision_weighted_mean': 0.34432189624164233, 'precision_weighted_std': 0.016715163363481438, 'recall_weighted_min': 0.3345070422535211, 'recall_weighted_max': 0.3866432337434095, 'recall_weighted_mean': 0.3698491918116785, 'recall_weighted_std': 0.01658047879543229}, 'CART': {'accuracy_min': 0.5933098591549296, 'accuracy_max': 0.6373239436619719, 'accuracy_mean': 0.6136129607168493, 'accuracy_std': 0.01463876880586542, 'f1_weighted_min': 0.6062784704102224, 'f1_weighted_max': 0.6317925610668339, 'f1_weighted_mean': 0.6193591186940093, 'f1_weighted_std': 0.009256180760012198, 'precision_weighted_min': 0.5954144692817539, 'precision_weighted_max': 0.638626873544986, 'precision_weighted_mean': 0.6189818399331901, 'precision_weighted_std': 0.013028266052089729, 'recall_weighted_min': 0.5915492957746479, 'recall_weighted_max': 0.6379613356766256, 'recall_weighted_mean': 0.6176560682195105, 'recall_weighted_std': 0.016680036143260395}, 'SVM': {'accuracy_min': 0.37785588752196836, 'accuracy_max': 0.38028169014084506, 'accuracy_mean': 0.379177083591178, 'accuracy_std': 0.000869098684049014, 'f1_weighted_min': 0.20724238728883468, 'f1_weighted_max': 0.20954297211842485, 'f1_weighted_mean': 0.20849484756071326, 'f1_weighted_std': 0.0008241917853927509, 'precision_weighted_min': 0.14277507173501439, 'precision_weighted_max': 0.14461416385637768, 'precision_weighted_mean': 0.1437760160532338, 'precision_weighted_std': 0.0006588375655183603, 'recall_weighted_min': 0.37785588752196836, 'recall_weighted_max': 0.38028169014084506, 'recall_weighted_mean': 0.379177083591178, 'recall_weighted_std': 0.000869098684049014}, 'ADB': {'accuracy_min': 0.5114235500878734, 'accuracy_max': 0.6091549295774648, 'accuracy_mean': 0.5495968340800514, 'accuracy_std': 0.030370604594966263, 'f1_weighted_min': 0.4145202314499471, 'f1_weighted_max': 0.5722521619417644, 'f1_weighted_mean': 0.4770904873338481, 'f1_weighted_std': 0.04733795691007779, 'precision_weighted_min': 0.3836394168201872, 'precision_weighted_max': 0.6129862524725802, 'precision_weighted_mean': 0.46998078729051507, 'precision_weighted_std': 0.08885719302648394, 'recall_weighted_min': 0.5114235500878734, 'recall_weighted_max': 0.6091549295774648, 'recall_weighted_mean': 0.5495968340800514, 'recall_weighted_std': 0.030370604594966263}, 'RFC': {'accuracy_min': 0.6256590509666081, 'accuracy_max': 0.6936619718309859, 'accuracy_mean': 0.6618022723334736, 'accuracy_std': 0.02229536803662038, 'f1_weighted_min': 0.6068576765762994, 'f1_weighted_max': 0.6841399432430885, 'f1_weighted_mean': 0.6471227543945522, 'f1_weighted_std': 0.024328448919898785, 'precision_weighted_min': 0.6273871308127977, 'precision_weighted_max': 0.6945082002130615, 'precision_weighted_mean': 0.6597495507370061, 'precision_weighted_std': 0.02320130640375399, 'recall_weighted_min': 0.6256590509666081, 'recall_weighted_max': 0.6936619718309859, 'recall_weighted_mean': 0.6618022723334736, 'recall_weighted_std': 0.02229536803662038}}, 'TEMPHOME': {}, 'TEMPGONE': {}, 'TEMPNITE': {}, 'USEWWAC': {}, 'TEMPHOMEAC': {}, 'TEMPGONEAC': {}, 'TEMPNITEAC': {}, 'HHAGE': {}, 'EMPLOYHH': {}, 'EDUCATION': {}, 'NHSLDMEM': {}, 'NUMADULT': {}, 'NUMCHILD': {}, 'ATHOME': {}, 'MONEYPY': {}}\n",
      "{'EQUIPMUSE': {'LDA': {'accuracy': array([0.59929701, 0.59226714, 0.57820738, 0.57820738, 0.6168717 ,\n",
      "       0.6168717 , 0.60211268, 0.62323944, 0.625     , 0.61443662]), 'f1_weighted': array([0.57405944, 0.55688645, 0.55815806, 0.54748133, 0.58735828,\n",
      "       0.58816686, 0.57135803, 0.59477573, 0.5964004 , 0.58226086]), 'precision_weighted': array([0.61049022, 0.58227593, 0.57847573, 0.56306341, 0.61108673,\n",
      "       0.61299894, 0.6057402 , 0.62129388, 0.62893558, 0.61268905]), 'recall_weighted': array([0.59929701, 0.59226714, 0.57820738, 0.57820738, 0.6168717 ,\n",
      "       0.6168717 , 0.60211268, 0.62323944, 0.625     , 0.61443662])}, 'KNN': {'accuracy': array([0.35500879, 0.37785589, 0.38664323, 0.37082601, 0.37961336,\n",
      "       0.38664323, 0.38204225, 0.35035211, 0.33450704, 0.375     ]), 'f1_weighted': array([0.32689248, 0.34504282, 0.36173397, 0.3302288 , 0.34908296,\n",
      "       0.36166222, 0.3557301 , 0.33197646, 0.31480511, 0.34794771]), 'precision_weighted': array([0.32482904, 0.3484912 , 0.35941607, 0.32794224, 0.34967688,\n",
      "       0.3634267 , 0.36846675, 0.34369816, 0.31394998, 0.34332194]), 'recall_weighted': array([0.35500879, 0.37785589, 0.38664323, 0.37082601, 0.37961336,\n",
      "       0.38664323, 0.38204225, 0.35035211, 0.33450704, 0.375     ])}, 'CART': {'accuracy': array([0.62038664, 0.6344464 , 0.61335677, 0.60632689, 0.59929701,\n",
      "       0.60456942, 0.62676056, 0.63732394, 0.59330986, 0.60035211]), 'f1_weighted': array([0.63179256, 0.62339953, 0.63060884, 0.60891593, 0.60627847,\n",
      "       0.61908164, 0.63097717, 0.61993381, 0.61393796, 0.60866527]), 'precision_weighted': array([0.63548058, 0.63862687, 0.60573427, 0.63237519, 0.62086585,\n",
      "       0.61912077, 0.61115012, 0.6200039 , 0.59541447, 0.61104639]), 'recall_weighted': array([0.63796134, 0.63268893, 0.62917399, 0.61335677, 0.59226714,\n",
      "       0.60808436, 0.62676056, 0.63732394, 0.60739437, 0.5915493 ])}, 'SVM': {'accuracy': array([0.37785589, 0.37785589, 0.37961336, 0.37961336, 0.37961336,\n",
      "       0.37961336, 0.38028169, 0.38028169, 0.37852113, 0.37852113]), 'f1_weighted': array([0.20724239, 0.20724239, 0.20890824, 0.20890824, 0.20890824,\n",
      "       0.20890824, 0.20954297, 0.20954297, 0.20787239, 0.20787239]), 'precision_weighted': array([0.14277507, 0.14277507, 0.1441063 , 0.1441063 , 0.1441063 ,\n",
      "       0.1441063 , 0.14461416, 0.14461416, 0.14327824, 0.14327824]), 'recall_weighted': array([0.37785589, 0.37785589, 0.37961336, 0.37961336, 0.37961336,\n",
      "       0.37961336, 0.38028169, 0.38028169, 0.37852113, 0.37852113])}, 'ADB': {'accuracy': array([0.53075571, 0.51142355, 0.5659051 , 0.5483304 , 0.5940246 ,\n",
      "       0.53954306, 0.60915493, 0.54577465, 0.51232394, 0.53873239]), 'f1_weighted': array([0.44867662, 0.41452023, 0.52264034, 0.46498779, 0.53725289,\n",
      "       0.45630808, 0.57225216, 0.46172448, 0.4357301 , 0.45681218]), 'precision_weighted': array([0.39408113, 0.54375932, 0.61298625, 0.40947536, 0.54879615,\n",
      "       0.40028998, 0.59831823, 0.40469945, 0.38363942, 0.40376257]), 'recall_weighted': array([0.53075571, 0.51142355, 0.5659051 , 0.5483304 , 0.5940246 ,\n",
      "       0.53954306, 0.60915493, 0.54577465, 0.51232394, 0.53873239])}, 'RFC': {'accuracy': array([0.65905097, 0.66256591, 0.62565905, 0.6801406 , 0.64499121,\n",
      "       0.69068541, 0.63380282, 0.6778169 , 0.64964789, 0.69366197]), 'f1_weighted': array([0.64681159, 0.64533111, 0.60685768, 0.66518776, 0.62843839,\n",
      "       0.67887728, 0.61732969, 0.66224988, 0.63600422, 0.68413994]), 'precision_weighted': array([0.65773312, 0.65917224, 0.62738713, 0.67867273, 0.6307218 ,\n",
      "       0.6945082 , 0.63560898, 0.67294942, 0.6486939 , 0.69204798]), 'recall_weighted': array([0.65905097, 0.66256591, 0.62565905, 0.6801406 , 0.64499121,\n",
      "       0.69068541, 0.63380282, 0.6778169 , 0.64964789, 0.69366197])}}, 'TEMPHOME': {}, 'TEMPGONE': {}, 'TEMPNITE': {}, 'USEWWAC': {}, 'TEMPHOMEAC': {}, 'TEMPGONEAC': {}, 'TEMPNITEAC': {}, 'HHAGE': {}, 'EMPLOYHH': {}, 'EDUCATION': {}, 'NHSLDMEM': {}, 'NUMADULT': {}, 'NUMCHILD': {}, 'ATHOME': {}, 'MONEYPY': {}}\n"
     ]
    }
   ],
   "source": [
    "print(cv_results_summary)\n",
    "print(cv_results_dump)"
   ]
  },
  {
   "cell_type": "code",
   "execution_count": 30,
   "metadata": {},
   "outputs": [],
   "source": [
    "# store cross validation results in csv file\n",
    "\n",
    "rows = []\n",
    "row = ['Target', 'Model']\n",
    "\n",
    "for metric in cv_scoring_metrics:\n",
    "    row.append(metric + '_' + 'min')\n",
    "    row.append(metric + '_' + 'max')\n",
    "    row.append(metric + '_' + 'mean')\n",
    "    row.append(metric + '_' + 'std')\n",
    "rows.append(row)\n",
    "\n",
    "for target in cv_results_summary.keys():\n",
    "    for model in cv_results_summary[target].keys():\n",
    "        row = [target, model]\n",
    "        for value in cv_results_summary[target][model].values():\n",
    "            row.append(value)\n",
    "        rows.append(row)\n",
    "\n",
    "with open('output/results.csv', 'w', newline='', encoding='utf-8') as file:\n",
    "    writer = csv.writer(file)\n",
    "    writer.writerows(rows)"
   ]
  },
  {
   "cell_type": "code",
   "execution_count": 31,
   "metadata": {},
   "outputs": [],
   "source": [
    "# store cross validation results dump in csv file\n",
    "rows = []\n",
    "for target in cv_results_dump.keys():\n",
    "    for model in cv_results_dump[target].keys():\n",
    "        for scale in cv_results_dump[target][model].keys():\n",
    "            row = [target, model, scale]\n",
    "            for value in cv_results_dump[target][model][scale]:\n",
    "                row.append(value)        \n",
    "            rows.append(row)\n",
    "\n",
    "with open('output/result_dump.csv', 'w', newline='', encoding='utf-8') as file:\n",
    "    writer = csv.writer(file)\n",
    "    writer.writerows(rows)"
   ]
  },
  {
   "cell_type": "code",
   "execution_count": 174,
   "metadata": {},
   "outputs": [
    {
     "name": "stdout",
     "output_type": "stream",
     "text": [
      "dict_keys(['explained_variance', 'r2', 'max_error', 'neg_median_absolute_error', 'neg_mean_absolute_error', 'neg_mean_absolute_percentage_error', 'neg_mean_squared_error', 'neg_mean_squared_log_error', 'neg_root_mean_squared_error', 'neg_mean_poisson_deviance', 'neg_mean_gamma_deviance', 'accuracy', 'top_k_accuracy', 'roc_auc', 'roc_auc_ovr', 'roc_auc_ovo', 'roc_auc_ovr_weighted', 'roc_auc_ovo_weighted', 'balanced_accuracy', 'average_precision', 'neg_log_loss', 'neg_brier_score', 'adjusted_rand_score', 'rand_score', 'homogeneity_score', 'completeness_score', 'v_measure_score', 'mutual_info_score', 'adjusted_mutual_info_score', 'normalized_mutual_info_score', 'fowlkes_mallows_score', 'precision', 'precision_macro', 'precision_micro', 'precision_samples', 'precision_weighted', 'recall', 'recall_macro', 'recall_micro', 'recall_samples', 'recall_weighted', 'f1', 'f1_macro', 'f1_micro', 'f1_samples', 'f1_weighted', 'jaccard', 'jaccard_macro', 'jaccard_micro', 'jaccard_samples', 'jaccard_weighted'])\n"
     ]
    }
   ],
   "source": [
    "from sklearn.metrics import SCORERS\n",
    "print (SCORERS.keys())"
   ]
  },
  {
   "cell_type": "code",
   "execution_count": null,
   "metadata": {},
   "outputs": [],
   "source": []
  }
 ],
 "metadata": {
  "kernelspec": {
   "display_name": "Python 3",
   "language": "python",
   "name": "python3"
  },
  "language_info": {
   "codemirror_mode": {
    "name": "ipython",
    "version": 3
   },
   "file_extension": ".py",
   "mimetype": "text/x-python",
   "name": "python",
   "nbconvert_exporter": "python",
   "pygments_lexer": "ipython3",
   "version": "3.7.1"
  }
 },
 "nbformat": 4,
 "nbformat_minor": 2
}
